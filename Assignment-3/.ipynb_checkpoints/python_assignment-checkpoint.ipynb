{
 "cells": [
  {
   "cell_type": "markdown",
   "metadata": {
    "id": "BKCrcukdE8Bb"
   },
   "source": [
    "# Assignment: Classification\n",
    "\n",
    "Classification refers to categorizing the given data into classes. For example,\n",
    "- Given an image of hand-written character, identifying the character (multi-class classification)\n",
    "- Given an image, annotating it with all the objects present in the image (multi-label classification)\n",
    "- Classifying an email as spam or non-spam (binary classification)\n",
    "- Classifying a tumor as benign or malignant and so on\n",
    "\n",
    "In this assignment, we will be building a classifier to classify emails as spam or non-spam. We will be using the Kaggle dataset [Spam or Not Spam Dataset](https://www.kaggle.com/datasets/ozlerhakan/spam-or-not-spam-dataset?resource=download) for this task. \n",
    "\n",
    "**Note**: You cannot load any libraries other than the mentioned ones.\n",
    "\n",
    "\n"
   ]
  },
  {
   "cell_type": "markdown",
   "metadata": {
    "id": "Irp6f7_2crfu"
   },
   "source": [
    "### Data pre-processing\n",
    "The first step in every machine learning algorithm is to process the raw data in some meaningful representations. We will be using the [Bag-of-Words](https://towardsdatascience.com/a-simple-explanation-of-the-bag-of-words-model-b88fc4f4971) representation to process the text. It comprises of following steps:\n",
    "\n",
    "- Process emails line-by-line to extract all the words.\n",
    "- Replace extracted words by their stem (root) word. This is known as stemming and lematization.\n",
    "- Remove stop words like and, or, is, am, and so on.\n",
    "- Assign a unique index to each word. This forms the vocabulary.\n",
    "- Represent each email as a binary vector of length equal to the size of the vocabulary such that the $i^{th}$ element of the vector is 1 iff the $i^th$ word is present in the email.\n",
    "\n",
    "Here we provide you with the function signature along with the expected functionality. You are expected to complete them accordingly. "
   ]
  },
  {
   "cell_type": "code",
   "execution_count": 24,
   "metadata": {},
   "outputs": [
    {
     "name": "stderr",
     "output_type": "stream",
     "text": [
      "[nltk_data] Downloading package stopwords to C:\\Users\\Yash\n",
      "[nltk_data]     Gupta\\AppData\\Roaming\\nltk_data...\n",
      "[nltk_data]   Package stopwords is already up-to-date!\n"
     ]
    },
    {
     "data": {
      "text/plain": [
       "True"
      ]
     },
     "execution_count": 24,
     "metadata": {},
     "output_type": "execute_result"
    }
   ],
   "source": [
    "import nltk\n",
    "nltk.download('stopwords')"
   ]
  },
  {
   "cell_type": "code",
   "execution_count": 25,
   "metadata": {
    "id": "wIlTOyyPn-mN"
   },
   "outputs": [],
   "source": [
    "import numpy as np\n",
    "from nltk.stem import PorterStemmer\n",
    "from nltk.corpus import stopwords\n",
    "\n",
    "# takes an email as an argument\n",
    "# read email line-by-line and extract all the words\n",
    "# return list of extracted words\n",
    "def read_email(email):\n",
    "    email = email.replace('_', '')\n",
    "    words = list(set(email.split()))\n",
    "    return words\n",
    "  \n",
    "# takes a list of words as an argument\n",
    "# replace each word by their stem word\n",
    "# return list of stem words\n",
    "def stemming(words):\n",
    "    ps = PorterStemmer()\n",
    "    stem_words = [ps.stem(w) for w in words]\n",
    "    return stem_words\n",
    "\n",
    "# takes a list of stem-words as an argument\n",
    "# remove stop words\n",
    "# return list of stem words after removing stop words\n",
    "def remove_stop_words(stem_words):\n",
    "    stop_words = set(stopwords.words('english'))\n",
    "    stem_no_stop_words = []\n",
    "    \n",
    "    for w in stem_words:\n",
    "        if w not in stop_words:\n",
    "            stem_no_stop_words.append(w)\n",
    "    \n",
    "    return stem_no_stop_words\n",
    "\n",
    "# takes a list of stem-words as an argument\n",
    "# add new words to the vocabulary and assign a unique index to them\n",
    "# returns new vocabulary\n",
    "def build_vocabulary(stem_words, vocab):\n",
    "    for w in stem_words: \n",
    "        if w not in vocab:\n",
    "            vocab.append(w)\n",
    "    return vocab\n",
    "\n",
    "# takes a list of stem-words and vocabulary as an argument\n",
    "# returns bow representation\n",
    "def get_bow(stem_words, vocab):\n",
    "    email_bow = []\n",
    "    for w in vocab:\n",
    "        if w in stem_words:\n",
    "            email_bow.append(1.0)\n",
    "        else:\n",
    "            email_bow.append(0.0)\n",
    "    return email_bow\n",
    "\n",
    "# takes an email as argument and return email_bow\n",
    "def text_to_bow(email, vocab):\n",
    "    words = read_email(email)\n",
    "    stop_stem_words = remove_stop_words(stemming(words))\n",
    "    \n",
    "    email_bow = get_bow(stop_stem_words, vocab)\n",
    "    \n",
    "    return email_bow\n",
    "    \n",
    "    \n",
    "# read the entire dataset\n",
    "# convert emails to bow and maintain their labels\n",
    "# call function text_to_bow()\n",
    "\n",
    "def read_data():\n",
    "    data_file = open('spam_or_not_spam.csv', 'r', encoding='utf-8')\n",
    "    next(data_file)\n",
    "    lines = data_file.readlines()\n",
    "    \n",
    "    vocab = []\n",
    "    for line in lines:\n",
    "        email, label = line.split(',')\n",
    "        words = read_email(email)\n",
    "        stem_words = remove_stop_words(stemming(words))\n",
    "        vocab = build_vocabulary(stem_words, vocab)\n",
    "        \n",
    "    dataList = []\n",
    "    for line in lines:\n",
    "        email, label = line.split(',')\n",
    "        label = bool(int(label.strip()))\n",
    "        email_bow = text_to_bow(email, vocab)\n",
    "        email_bow.append(label)\n",
    "        dataList.append(email_bow)\n",
    "        \n",
    "    data = np.array(dataList)\n",
    "    return data, vocab"
   ]
  },
  {
   "cell_type": "code",
   "execution_count": 26,
   "metadata": {},
   "outputs": [
    {
     "data": {
      "text/plain": [
       "array([[1., 1., 1., ..., 0., 0., 0.],\n",
       "       [0., 0., 0., ..., 0., 0., 0.],\n",
       "       [0., 0., 0., ..., 0., 0., 0.],\n",
       "       ...,\n",
       "       [0., 0., 0., ..., 0., 0., 1.],\n",
       "       [0., 0., 0., ..., 0., 0., 1.],\n",
       "       [0., 0., 0., ..., 1., 1., 1.]])"
      ]
     },
     "execution_count": 26,
     "metadata": {},
     "output_type": "execute_result"
    }
   ],
   "source": [
    "data, vocab = read_data()\n",
    "data\n"
   ]
  },
  {
   "cell_type": "markdown",
   "metadata": {
    "id": "d0cDiGt6nkPY"
   },
   "source": [
    "### Data Visualization\n",
    "Let's understand the data distribution\n",
    "- Visualize the frequency of word-occurence in all the emails(spam + non-spam)\n",
    "- Visualize the freuency of word-occurence for spam and non-spam emails separately"
   ]
  },
  {
   "cell_type": "code",
   "execution_count": 28,
   "metadata": {},
   "outputs": [],
   "source": [
    "import matplotlib.pyplot as plt\n",
    "\n",
    "def plot_word_occurences(data, vocab, len_top_words, email_type):\n",
    "    \n",
    "    new_data = data\n",
    "    \n",
    "    if email_type == \"Spam\": \n",
    "        new_data = new_data[new_data[:, -1] == 1.0]\n",
    "    elif email_type == \"Non-spam\":\n",
    "        new_data = new_data[new_data[:, -1] == 0.0]\n",
    "        \n",
    "    new_data = np.delete(new_data, -1, axis=1)\n",
    "    \n",
    "    #print(new_data)\n",
    "        \n",
    "    indices = np.argsort(new_data.sum(axis = 0))[::-1][:len_top_words]\n",
    "    \n",
    "    plt.figure(figsize=(20, 20))\n",
    "    \n",
    "    plt.bar(range(len_top_words), new_data.sum(axis = 0)[indices])\n",
    "    \n",
    "    plt.xticks(range(len_top_words), np.array(vocab)[indices])\n",
    "    plt.title(f\"Plot of word-occurence in {email_type} emails\")\n",
    "    plt.xlabel(\"Words\")\n",
    "    plt.ylabel(\"Frequency of occurence\")\n",
    "    plt.show()\n",
    "\n",
    "# visuallze data distribution\n",
    "\n",
    "def data_vis(data, vocab):\n",
    "    \n",
    "    # plotting frequency of word-occurence for all emails\n",
    "    plot_word_occurences(data, vocab, len_top_words=30, email_type=\"All\")\n",
    "    \n",
    "    # plotting frequency of word-occurence for spam emails\n",
    "    plot_word_occurences(data, vocab, len_top_words=30, email_type=\"Spam\")\n",
    "    \n",
    "    # plotting frequency of word-occurence for non-spam emails\n",
    "    plot_word_occurences(data, vocab, len_top_words=30, email_type=\"Non-spam\")\n",
    "    "
   ]
  },
  {
   "cell_type": "code",
   "execution_count": 29,
   "metadata": {},
   "outputs": [
    {
     "data": {
      "image/png": "[encoded data removed]",
      "text/plain": [
       "<Figure size 1440x1440 with 1 Axes>"
      ]
     },
     "metadata": {
      "needs_background": "light"
     },
     "output_type": "display_data"
    },
    {
     "data": {
      "image/png": "[encoded data removed]",
      "text/plain": [
       "<Figure size 1440x1440 with 1 Axes>"
      ]
     },
     "metadata": {
      "needs_background": "light"
     },
     "output_type": "display_data"
    },
    {
     "data": {
      "image/png": "[encoded data removed]",
      "text/plain": [
       "<Figure size 1440x1440 with 1 Axes>"
      ]
     },
     "metadata": {
      "needs_background": "light"
     },
     "output_type": "display_data"
    }
   ],
   "source": [
    "data_vis(data, vocab)"
   ]
  },
  {
   "cell_type": "markdown",
   "metadata": {
    "id": "LPq-3nTzGcdX"
   },
   "source": [
    "### Learn a Classifier\n",
    "Split the dataset randomly in the ratio 80:20 as the training and test dataset. Use only training dataset to learn the classifier. No test data should be used during training. Test data will only be used during evaluation.\n",
    "\n",
    "Now let us try to use ML algorithms to classify emails as spam or non-spam. You are supposed to implement [SVM](https://scikit-learn.org/stable/modules/svm.html) and [K-Nearest Neighbour](https://scikit-learn.org/stable/modules/generated/sklearn.neighbors.KNeighborsClassifier.html) algorithm available in scikit-learn using the same training dataset for both."
   ]
  },
  {
   "cell_type": "code",
   "execution_count": 38,
   "metadata": {},
   "outputs": [],
   "source": [
    "from sklearn.neighbors import KNeighborsClassifier\n",
    "from sklearn import svm\n",
    "\n",
    "# split dataset\n",
    "def split(data):\n",
    "    \n",
    "    data_size = len(data)\n",
    "    train_data_size, test_data_size = int(0.8*data_size), int(0.2*data_size)\n",
    "    \n",
    "    np.random.shuffle(data)\n",
    "    \n",
    "    train_data = data[:train_data_size + 1, :]\n",
    "    test_data = data[train_data_size + 1:, :]\n",
    "    \n",
    "    return train_data, test_data\n",
    "\n",
    "# learn a SVM model\n",
    "# use the model to make prediction\n",
    "# return the model predictions on train and test dataset\n",
    "def svm_classifier(train_data, test_data):\n",
    "    x_train, y_train = train_data[:, :-1], train_data[:, -1]\n",
    "    x_test, y_test = test_data[:, :-1], test_data[:, -1]\n",
    "    \n",
    "    clf = svm.SVC()\n",
    "    clf.fit(x_train, y_train)\n",
    "    y_predict_train = clf.predict(x_train)\n",
    "    y_predict_test = clf.predict(x_test)\n",
    "    \n",
    "    return y_predict_train, y_predict_test\n",
    "\n",
    "# implement k-NN algorithm\n",
    "# use the model to make prediction\n",
    "# return the model predictions on train and test dataset\n",
    "def knn_classifier(train_data, test_data):\n",
    "    x_train, y_train = train_data[:, :-1], train_data[:, -1]\n",
    "    x_test, y_test = test_data[:, :-1], test_data[:, -1]\n",
    "    \n",
    "    neigh = KNeighborsClassifier()\n",
    "    neigh.fit(x_train, y_train)\n",
    "    \n",
    "    y_predict_train = neigh.predict(x_train)\n",
    "    y_predict_test = neigh.predict(x_test)\n",
    "    \n",
    "    return y_predict_train, y_predict_test\n",
    "\n",
    "train_data, test_data = split(data)\n",
    "svm_train_predictions, svm_test_predictions = svm_classifier(train_data, test_data)\n",
    "knn_train_predictions, knn_test_predictions = knn_classifier(train_data, test_data)"
   ]
  },
  {
   "cell_type": "markdown",
   "metadata": {
    "id": "SlCwYvluHqQz"
   },
   "source": [
    "### Model Evaluation\n",
    "Compare the SVM and k-NN model using metrics\n",
    "- Accuracy\n",
    "- [AUC score](https://scikit-learn.org/stable/modules/generated/sklearn.metrics.auc.html)\n"
   ]
  },
  {
   "cell_type": "code",
   "execution_count": 42,
   "metadata": {},
   "outputs": [
    {
     "name": "stdout",
     "output_type": "stream",
     "text": [
      "Accuracy score of SVM classifier on training dataset -  0.9937526030820492\n",
      "Accuracy score of SVM classifier on testing dataset -  0.9782971619365609\n",
      "\n",
      "AUC score of SVM classifier on training dataset -  0.9816625916870416\n",
      "AUC score of SVM classifier on testing dataset -  0.9330816820974301\n",
      "\n",
      "\n",
      "Accuracy score of KNN classifier on training dataset -  0.8875468554768846\n",
      "Accuracy score of KNN classifier on testing dataset -  0.8146911519198664\n",
      "\n",
      "AUC score of KNN classifier on training dataset -  0.905027199261594\n",
      "AUC score of KNN classifier on testing dataset -  0.8591762568140522\n"
     ]
    }
   ],
   "source": [
    "from sklearn import metrics\n",
    "\n",
    "# compute accuracy \n",
    "def compute_accuracy(true_labels, predicted_labels):\n",
    "    acc = metrics.accuracy_score(true_labels, predicted_labels)\n",
    "    return acc\n",
    "\n",
    "# compute AUC score \n",
    "def compute_auc(true_labels, predicted_labels):\n",
    "    fpr, tpr, thresholds = metrics.roc_curve(true_labels, predicted_labels)\n",
    "    auc = metrics.auc(fpr, tpr)\n",
    "    return auc\n",
    "\n",
    "# write code to print train and test accuracy and AUC score of SVM and k-NN classifier\n",
    "\n",
    "x_train, y_train = train_data[:, :-1], train_data[:, -1]\n",
    "x_test, y_test = test_data[:, :-1], test_data[:, -1]\n",
    "\n",
    "# SVM classifier\n",
    "\n",
    "svm_train_accuracy = compute_accuracy(y_train, svm_train_predictions)\n",
    "svm_test_accuracy = compute_accuracy(y_test, svm_test_predictions)\n",
    "\n",
    "print(\"Accuracy score of SVM classifier on training dataset - \", svm_train_accuracy)\n",
    "print(\"Accuracy score of SVM classifier on testing dataset - \", svm_test_accuracy)\n",
    "print()\n",
    "\n",
    "svm_train_auc = compute_auc(y_train, svm_train_predictions)\n",
    "svm_test_auc = compute_auc(y_test, svm_test_predictions)\n",
    "\n",
    "print(\"AUC score of SVM classifier on training dataset - \", svm_train_auc)\n",
    "print(\"AUC score of SVM classifier on testing dataset - \", svm_test_auc)\n",
    "print()\n",
    "print()\n",
    "\n",
    "# KNN classifier\n",
    "\n",
    "knn_train_accuracy = compute_accuracy(y_train, knn_train_predictions)\n",
    "knn_test_accuracy = compute_accuracy(y_test, knn_test_predictions)\n",
    "\n",
    "print(\"Accuracy score of KNN classifier on training dataset - \", knn_train_accuracy)\n",
    "print(\"Accuracy score of KNN classifier on testing dataset - \", knn_test_accuracy)\n",
    "print()\n",
    "\n",
    "knn_train_auc = compute_auc(y_train, knn_train_predictions)\n",
    "knn_test_auc = compute_auc(y_test, knn_test_predictions)\n",
    "\n",
    "print(\"AUC score of KNN classifier on training dataset - \", knn_train_auc)\n",
    "print(\"AUC score of KNN classifier on testing dataset - \", knn_test_auc)"
   ]
  },
  {
   "cell_type": "markdown",
   "metadata": {},
   "source": [
    "#### Comparison of SVM and KNN Classification techniques\n",
    "\n",
    "From the accuracy and AUC scores obtained above, we can infer that SVM performs binary classification better than KNN. "
   ]
  }
 ],
 "metadata": {
  "colab": {
   "collapsed_sections": [],
   "name": "python-assignment.ipynb",
   "provenance": []
  },
  "kernelspec": {
   "display_name": "Python 3",
   "language": "python",
   "name": "python3"
  },
  "language_info": {
   "codemirror_mode": {
    "name": "ipython",
    "version": 3
   },
   "file_extension": ".py",
   "mimetype": "text/x-python",
   "name": "python",
   "nbconvert_exporter": "python",
   "pygments_lexer": "ipython3",
   "version": "3.9.5"
  }
 },
 "nbformat": 4,
 "nbformat_minor": 1
}
